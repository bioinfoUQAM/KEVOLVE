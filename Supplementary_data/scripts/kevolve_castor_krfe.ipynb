{
 "cells": [
  {
   "cell_type": "code",
   "execution_count": 4,
   "metadata": {},
   "outputs": [],
   "source": [
    "import os\n",
    "import re\n",
    "import json\n",
    "import exrex\n",
    "import numpy\n",
    "import Bio.SeqIO\n",
    "import pandas as pd\n",
    "from sklearn.svm import SVC\n",
    "from joblib import Parallel, delayed\n",
    "from sklearn.metrics import f1_score\n",
    "from sklearn.metrics import recall_score\n",
    "from sklearn.metrics import precision_score"
   ]
  },
  {
   "cell_type": "code",
   "execution_count": 9,
   "metadata": {},
   "outputs": [],
   "source": [
    "# Function to convert degenerative k-mers into a list of k-mers \n",
    "def convert_degenerative_k_mers(k_mer):\n",
    "\tk_mers = []\n",
    "\ttemp_k_mer = \"\"\n",
    "\t\n",
    "\tfor n in range(len(k_mer)): \n",
    "\t\tif k_mer[n] == \"A\": temp_k_mer = temp_k_mer + \"[A]\"\n",
    "\t\tif k_mer[n] == \"C\": temp_k_mer = temp_k_mer + \"[C]\"\n",
    "\t\tif k_mer[n] == \"G\": temp_k_mer = temp_k_mer + \"[G]\"\n",
    "\t\tif k_mer[n] == \"T\": temp_k_mer = temp_k_mer + \"[T]\"\n",
    "\t\tif k_mer[n] == \"N\": temp_k_mer = temp_k_mer + \"[ACGT]\"\n",
    "\t\tif k_mer[n] == \"X\": temp_k_mer = temp_k_mer + \"[ACGT]\"\n",
    "\t\tif k_mer[n] == \"V\": temp_k_mer = temp_k_mer + \"[^ACG]\"\n",
    "\t\tif k_mer[n] == \"H\": temp_k_mer = temp_k_mer + \"[^ACT]\"\n",
    "\t\tif k_mer[n] == \"D\": temp_k_mer = temp_k_mer + \"[^AGT]\"\n",
    "\t\tif k_mer[n] == \"B\": temp_k_mer = temp_k_mer + \"[^CGT]\"\n",
    "\t\tif k_mer[n] == \"M\": temp_k_mer = temp_k_mer + \"[AC]\"\n",
    "\t\tif k_mer[n] == \"W\": temp_k_mer = temp_k_mer + \"[AT]\"\n",
    "\t\tif k_mer[n] == \"R\": temp_k_mer = temp_k_mer + \"[AG]\"\n",
    "\t\tif k_mer[n] == \"K\": temp_k_mer = temp_k_mer + \"[GT]\"\n",
    "\t\tif k_mer[n] == \"S\": temp_k_mer = temp_k_mer + \"[CG]\"\n",
    "\t\tif k_mer[n] == \"Y\": temp_k_mer = temp_k_mer + \"[CT]\"\n",
    "\n",
    "\tfor i in exrex.generate(temp_k_mer): \n",
    "\t\tk_mers.append(i)\n",
    "\treturn k_mers"
   ]
  },
  {
   "cell_type": "code",
   "execution_count": 10,
   "metadata": {},
   "outputs": [],
   "source": [
    "# Function to load test data from a fasta file\n",
    "def loadDataTrain(file_path):\n",
    "\t# Initialize the data matrix\n",
    "\tD = []\n",
    "\t# Iterate through the fasta file\n",
    "\tfor record in Bio.SeqIO.parse(file_path, \"fasta\"):\n",
    "\t\t# If there is a class label, save id, sequence and class label in the data list\n",
    "\t\ttry: \n",
    "\t\t\tindexes = [i for i, c in enumerate(record.description) if c == \"|\"]\n",
    "\t\t\tD.append([record.description, str(record.seq.upper()).replace('N',''), record.description[indexes[len(indexes)-1] +1 :]])\n",
    "\t\t# If there is a no class label, save id and sequence in the data list\n",
    "\t\texcept: D.append([record.descrition, str(record.seq.upper())])\n",
    "\t# Return the data matrix\n",
    "\treturn D"
   ]
  },
  {
   "cell_type": "code",
   "execution_count": 11,
   "metadata": {},
   "outputs": [],
   "source": [
    "# Function to load test data from a fasta file\n",
    "def loadDataTest(file_path, D_train):\n",
    "\t# Load train data to remove it from test data\n",
    "\tid = [d[0] for d in D_train]\n",
    "\tD_train.clear()\n",
    "\t# Initialize the data matrix\n",
    "\tD = []\n",
    "\t# Iterate through the fasta file\n",
    "\tfor record in Bio.SeqIO.parse(file_path, \"fasta\"):\n",
    "\t\t# If there is a class label, save id, sequence and class label in the data list\n",
    "\t\ttry: \n",
    "\t\t\t# Get index of last separator\n",
    "\t\t\tindexes = [i for i, c in enumerate(record.description) if c == \"|\"]\n",
    "\t\t\t# Save id, sequence and class label\n",
    "\t\t\tif record.description not in id:\n",
    "\t\t\t\tD.append([record.description, str(record.seq.upper()), record.description[indexes[len(indexes)-1] +1 :]])\n",
    "\t\t# If there is a no class label, save id and sequence in the data list\n",
    "\t\texcept: D.append([record.descrition, str(record.seq.upper())])\n",
    "\t# Return the data matrix\n",
    "\treturn D"
   ]
  },
  {
   "cell_type": "code",
   "execution_count": 12,
   "metadata": {},
   "outputs": [],
   "source": [
    "# Function to compute the occurence vector of sequence\n",
    "def computeSequenceVector(d, K, k):\n",
    "\t# Generate an empty dictionary\n",
    "\tx = {}\n",
    "\t# Initialize the dictionary with targets as keys and 0 as value\n",
    "\tx = x.fromkeys(K.keys(), 0)\n",
    "\t# Go through the sequence \n",
    "\tfor i in range(0, len(d[1]) - k + 1, 1):\n",
    "\t\t# Try to increment the current k-mer value by 1\n",
    "\t\ttry: x[d[1][i:i + k]] = x[d[1][i:i + k]] + 1\n",
    "\t\t# Pass if the k-mers does not exist\n",
    "\t\texcept: pass\n",
    "\t# Return the vector and associated target\n",
    "\treturn [list(x.values()), d[2]]"
   ]
  },
  {
   "cell_type": "code",
   "execution_count": 13,
   "metadata": {},
   "outputs": [],
   "source": [
    "# Function to generate the samples matrix (X) and the target values (y)\n",
    "def generateSamplesTargets(D, K, k):\n",
    "\t# Samples matrix\n",
    "\tX = []\n",
    "\t# Target values\n",
    "\ty = []\n",
    "\t# Iterate through the data\n",
    "\tdata = Parallel(n_jobs = -1)(delayed(computeSequenceVector)(d, K, k) for d in D)\n",
    "\t# Add to the matrices\n",
    "\tfor d in data: \n",
    "\t\tX.append(d[0])\n",
    "\t\ty.append(d[1])\n",
    "\n",
    "\t# Convert to numpy array format\n",
    "\tX = numpy.asarray(X)\n",
    "\ty = numpy.asarray(y)\n",
    "\t# Return the samples matrix (X) and the target values (y)\n",
    "\treturn X, y"
   ]
  },
  {
   "cell_type": "code",
   "execution_count": 15,
   "metadata": {},
   "outputs": [
    {
     "name": "stdout",
     "output_type": "stream",
     "text": [
      "{'precision': 0.9404000327485272, 'recall': 0.9979948836965216, 'f1_score': 0.9632747808590979}\n",
      "1) precision 0.9821277340501251 recall 0.9997389962197982 f1_score 0.9905562569779264\n",
      "{'precision': 0.966120058913931, 'recall': 0.9995627572565521, 'f1_score': 0.979686335198838}\n",
      "2) precision 0.9896601166255948 recall 0.9998407053988707 f1_score 0.9944872131257719\n",
      "{'precision': 0.9863161846725665, 'recall': 0.9995462229775663, 'f1_score': 0.9927638755945505}\n"
     ]
    }
   ],
   "source": [
    "# Compute and save performance metrics for KEVOLVE and CASTOR-KRFE\n",
    "data = {}\n",
    "\n",
    "with open('KEVOLVE.json') as d:\n",
    "    KEVOLVE_DATA = json.load(d)\n",
    "\n",
    "\n",
    "# Iterate throught prediction files\n",
    "for n in range(1, 101): \n",
    "    print()\n",
    "    y_true = []\n",
    "    y_pred = []\n",
    "    k_mers = []\n",
    "    for i in range(1, 11):\n",
    "        for record in Bio.SeqIO.parse(\"KEVOLVE/\" + str(n) + \"/k_mers/\" + str(i) + \".fasta\", \"fasta\"): k_mers.append(record.seq)\n",
    "  \n",
    "    k_mers = set(k_mers)\n",
    "\n",
    "    K = dict.fromkeys(k_mers, 0)\n",
    "    D_train = loadDataTrain(\"data/SARS-CoV-2_train_\" + str(n) + \".fasta\")\n",
    "    X_train, y_train = generateSamplesTargets(D_train, K , 9)\n",
    "\n",
    "    D_test = loadDataTest(\"data/SARS-CoV-2.fasta\", D_train)\n",
    "    X_test, y_test = generateSamplesTargets(D_test, K , 9)\n",
    "\n",
    "    model = SVC(kernel = 'linear', C = 1, cache_size = 1000)\n",
    "    model.fit(X_train, y_train)\n",
    "    y_pred = model.predict(X_test)\n",
    "\n",
    "    # Compute the performance metrics\n",
    "    f1 = f1_score(y_test, y_pred, average='macro')\n",
    "    recall = recall_score(y_test, y_pred, average='macro')\n",
    "    precision = precision_score(y_test, y_pred, average='macro')\n",
    "    print(str(n) +\") precision\", precision, \"recall\", recall, \"f1_score\", f1, KEVOLVE_DATA[str(n)])\n",
    "\n",
    "    # Save the predictions\n",
    "    file = open(\"KEVOLVE/\" + str(n) + \"/prediction.csv\", \"w\")\n",
    "    file.write(\"id,y_pred\\n\")\n",
    "    for i, y in enumerate(y_pred): file.write(D_test[i][0] + \",\" + y + \"\\n\")\n",
    "    file.close()\n",
    "\n",
    "    # Save the results in dictionary \n",
    "    data[str(n)] = {\"precision\":precision, \"recall\":recall, \"f1_score\":f1}\n",
    "\n",
    "# Save the results in JSON format\n",
    "with open(\"KEVOLE.json\", \"w\") as outfile:\n",
    "    json.dump(data, outfile)\n"
   ]
  }
 ],
 "metadata": {
  "kernelspec": {
   "display_name": "Python 3.8.8 ('base')",
   "language": "python",
   "name": "python3"
  },
  "language_info": {
   "codemirror_mode": {
    "name": "ipython",
    "version": 3
   },
   "file_extension": ".py",
   "mimetype": "text/x-python",
   "name": "python",
   "nbconvert_exporter": "python",
   "pygments_lexer": "ipython3",
   "version": "3.8.8"
  },
  "orig_nbformat": 4,
  "vscode": {
   "interpreter": {
    "hash": "c1d675c2f4f889dd09212fec10ba36e21d8557edcac2b728432b54c97897b7bb"
   }
  }
 },
 "nbformat": 4,
 "nbformat_minor": 2
}
